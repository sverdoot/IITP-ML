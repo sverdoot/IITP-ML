{
 "cells": [
  {
   "cell_type": "markdown",
   "metadata": {},
   "source": [
    "## Задача по курсу \"Вычислительная линейная алгебра\"\n",
    "\n",
    "Реализовать $LU-$разложение (с выбором ведущего элемента), использовать его для решения уравнения $Ax=b$. Организовать проверку, вычислив $A\\hat{x}-b$, где $\\hat{x}$ - найденное решение.\n"
   ]
  },
  {
   "cell_type": "code",
   "execution_count": 7,
   "metadata": {},
   "outputs": [],
   "source": [
    "import numpy as np  # the library for matrix calculations"
   ]
  },
  {
   "cell_type": "code",
   "execution_count": 8,
   "metadata": {},
   "outputs": [],
   "source": [
    "n = 100\n",
    "A = np.random.randn(n, n) * 10\n",
    "b = np.random.randn(n) * 10"
   ]
  },
  {
   "cell_type": "code",
   "execution_count": 9,
   "metadata": {},
   "outputs": [],
   "source": [
    "# lup decomposition\n",
    "\n",
    "def lup_decompose(A):\n",
    "    \"\"\" A - input matrix \n",
    "        \n",
    "        return:\n",
    "        P - permutation matrix ,s.t. PA = LU\n",
    "        L - lower triangle matrix with 1 on the diagonal\n",
    "        U - upper triangle matrix\n",
    "        C - matrix with elements of U on and above the diagonal and with\n",
    "            elements of L below the diagonal\n",
    "    \"\"\"\n",
    "    n = A.shape[0]\n",
    "    C = A.copy()\n",
    "    P = np.eye(n)\n",
    "\n",
    "    for i in range(n):\n",
    "        pivotValue = np.max(np.abs(C[i:, i])) # value of the pivot element\n",
    "        pivot = np.argmax(np.abs(C[i:, i])) + i # number of row, containing pivot element\n",
    "        if pivotValue != 0:\n",
    "            P[[pivot, i], :] = P[[i, pivot], :]  # permutation\n",
    "            C[[pivot, i], :] = C[[i, pivot], :]  # permutation\n",
    "        for j in range(i+1,n):\n",
    "            C[j, i] = C[j, i] / C[i, i]    # a_{ji} = a_{ji} / a_{ii}\n",
    "            for k in range(i+1,n):\n",
    "                C[j, k] -= C[j, i] * C[i, k]  #a_{jk} = a_{jk} - a_{ji}a_{ik}\n",
    "    \n",
    "    l_mask = np.array([[1]*(i) + [0]*(n-i) for i in range(n)])\n",
    "    L = C * l_mask + np.diag(np.ones(n))\n",
    "    U = C - L +  np.diag(np.ones(n))\n",
    "\n",
    "    return P, L, U, C"
   ]
  },
  {
   "cell_type": "code",
   "execution_count": 10,
   "metadata": {},
   "outputs": [
    {
     "data": {
      "text/plain": [
       "True"
      ]
     },
     "execution_count": 10,
     "metadata": {},
     "output_type": "execute_result"
    }
   ],
   "source": [
    "P, L, U, _ = lup_decompose(A)\n",
    "np.allclose(P @ A - L @ U, np.zeros((n, n))) # checks if PA-LU is close to zero matrix"
   ]
  },
  {
   "cell_type": "code",
   "execution_count": 11,
   "metadata": {},
   "outputs": [],
   "source": [
    "# calculates inverse matrix to L\n",
    "\n",
    "def inv_lower(L):\n",
    "    n = L.shape[0]\n",
    "    Inv = np.eye(n)\n",
    "    \n",
    "    for i in range(n):\n",
    "        Inv[i] /= L[i, i]\n",
    "        for j in range(i + 1, n):\n",
    "            Inv[j] -= Inv[i] * L[j, i]\n",
    "    return Inv"
   ]
  },
  {
   "cell_type": "code",
   "execution_count": 12,
   "metadata": {},
   "outputs": [],
   "source": [
    "# calculates inverse matrix to U\n",
    "\n",
    "def inv_upper(U):\n",
    "    n = U.shape[0]\n",
    "    Inv = np.eye(n)\n",
    "    \n",
    "    for i in range(n)[::-1]:\n",
    "        Inv[i] /= U[i, i]\n",
    "        for j in range(i)[::-1]:\n",
    "            Inv[j] -= Inv[i] * U[j, i]\n",
    "    return Inv"
   ]
  },
  {
   "cell_type": "code",
   "execution_count": 13,
   "metadata": {},
   "outputs": [],
   "source": [
    "# Ax = b => PAx = LUx = Pb\n",
    "# returns x = U^{-1} L^{-1} (Pb)\n",
    "\n",
    "def lup_solve(A, b):\n",
    "    P, L, U, _ = lup_decompose(A)\n",
    "    Pb = P @ b\n",
    "    x = inv_upper(U) @ inv_lower(L) @ Pb\n",
    "    \n",
    "    return x"
   ]
  },
  {
   "cell_type": "code",
   "execution_count": 14,
   "metadata": {},
   "outputs": [],
   "source": [
    "x = lup_solve(A, b)"
   ]
  },
  {
   "cell_type": "code",
   "execution_count": 15,
   "metadata": {},
   "outputs": [
    {
     "data": {
      "text/plain": [
       "True"
      ]
     },
     "execution_count": 15,
     "metadata": {},
     "output_type": "execute_result"
    }
   ],
   "source": [
    "np.allclose(A @ x - b, np.zeros(n)) # checks if Ax - b is close to zero vector"
   ]
  },
  {
   "cell_type": "code",
   "execution_count": 16,
   "metadata": {},
   "outputs": [
    {
     "data": {
      "text/plain": [
       "3.233978876752354e-11"
      ]
     },
     "execution_count": 16,
     "metadata": {},
     "output_type": "execute_result"
    }
   ],
   "source": [
    "np.linalg.norm(A @ x - b, 2) # calculates ||Ax - b||_2 ^2"
   ]
  },
  {
   "cell_type": "code",
   "execution_count": 17,
   "metadata": {},
   "outputs": [],
   "source": [
    "import scipy.linalg"
   ]
  },
  {
   "cell_type": "code",
   "execution_count": 18,
   "metadata": {},
   "outputs": [
    {
     "data": {
      "text/plain": [
       "3.2647165327946756e-11"
      ]
     },
     "execution_count": 18,
     "metadata": {},
     "output_type": "execute_result"
    }
   ],
   "source": [
    "P, L, U = scipy.linalg.lu(A)                          # A = PLU, where P - inverse permutation matrix !\n",
    "x = inv_upper(U) @ inv_lower(L) @ P.transpose() @ b   #P^T = P^{-1} => x = U^{-1} L^{-1} P^T b\n",
    "np.linalg.norm(A @ x - b, 2)                          # calculates ||Ax - b||_2 ^2"
   ]
  },
  {
   "cell_type": "code",
   "execution_count": 19,
   "metadata": {},
   "outputs": [],
   "source": [
    "# calculation of the maximum eigenvalue of the matrix\n",
    "\n",
    "def max_eigval(A, x=None, eps=1e-14):\n",
    "    if x is None:\n",
    "        x = np.random.randn(A.shape[0])\n",
    "    lam = 1\n",
    "    dif = 1\n",
    "    while (dif > eps):\n",
    "        lam_prev = lam\n",
    "        y = A @ x\n",
    "        x = y / np.linalg.norm(y, 2)\n",
    "        lam = (x @ A @ x).item()\n",
    "        dif = np.abs(lam - lam_prev)\n",
    "    return lam"
   ]
  },
  {
   "cell_type": "code",
   "execution_count": 20,
   "metadata": {},
   "outputs": [],
   "source": [
    "# calculation of the condition number of the matrix\n",
    "\n",
    "def cond(A):\n",
    "    P, L, U, _ = lup_decompose(A)\n",
    "    PA_inv = inv_upper(U) @ inv_lower(L)\n",
    "    PA = P @ A\n",
    "    PA_norm = np.sqrt(max_eigval((PA.transpose() @ PA)))\n",
    "    PA_inv_norm = np.sqrt(max_eigval(PA_inv.transpose() @ PA_inv))\n",
    "    cond = PA_norm * PA_inv_norm\n",
    "    \n",
    "    return cond"
   ]
  },
  {
   "cell_type": "code",
   "execution_count": 21,
   "metadata": {},
   "outputs": [
    {
     "name": "stdout",
     "output_type": "stream",
     "text": [
      "3657.0637720955397\n",
      "3657.0637720949644\n"
     ]
    }
   ],
   "source": [
    "# comparison of the condition numbers calculated by the inbuilt method and by one implemented here.\n",
    "\n",
    "print(cond(A))\n",
    "print(np.linalg.cond(A))"
   ]
  },
  {
   "cell_type": "code",
   "execution_count": null,
   "metadata": {},
   "outputs": [],
   "source": []
  }
 ],
 "metadata": {
  "kernelspec": {
   "display_name": "Python 3",
   "language": "python",
   "name": "python3"
  },
  "language_info": {
   "codemirror_mode": {
    "name": "ipython",
    "version": 3
   },
   "file_extension": ".py",
   "mimetype": "text/x-python",
   "name": "python",
   "nbconvert_exporter": "python",
   "pygments_lexer": "ipython3",
   "version": "3.6.5"
  }
 },
 "nbformat": 4,
 "nbformat_minor": 2
}
